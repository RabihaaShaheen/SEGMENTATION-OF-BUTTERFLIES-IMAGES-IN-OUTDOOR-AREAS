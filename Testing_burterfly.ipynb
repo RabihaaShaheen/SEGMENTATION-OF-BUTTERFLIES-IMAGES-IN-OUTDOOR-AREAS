{
  "nbformat": 4,
  "nbformat_minor": 0,
  "metadata": {
    "colab": {
      "name": "Testing.burterfly.ipynb",
      "provenance": []
    },
    "kernelspec": {
      "name": "python3",
      "display_name": "Python 3"
    },
    "language_info": {
      "name": "python"
    }
  },
  "cells": [
    {
      "cell_type": "code",
      "execution_count": null,
      "metadata": {
        "id": "i4c2uPA1i925"
      },
      "outputs": [],
      "source": [
        "import cv2\n",
        "import tensorflow as tf\n",
        "\n",
        "CATEGORIES = [\"maniola_jurtina\", \"monarch\"]\n",
        "\n",
        "\n",
        "def prepare(filepath):\n",
        "    IMG_SIZE = 70\n",
        "    img_array = cv2.imread(filepath, cv2.IMREAD_GRAYSCALE)\n",
        "    new_array = cv2.resize(img_array, (IMG_SIZE,IMG_SIZE))\n",
        "    return new_array.reshape(-1, IMG_SIZE, IMG_SIZE,1)\n",
        "\n",
        "\n",
        "model = tf.keras.models.load_model(\"64x2-CNN.model\")\n",
        "\n",
        "prediction = model.predict([prepare(r'C:\\Users\\Dell\\Pictures\\Saved Pictures\\smth.jpg')])\n",
        "print(CATEGORIES[int(prediction[0][0])])\n"
      ]
    }
  ]
}